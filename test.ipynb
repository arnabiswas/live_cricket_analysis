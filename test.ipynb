{
 "cells": [
  {
   "cell_type": "code",
   "execution_count": 1,
   "metadata": {},
   "outputs": [],
   "source": [
    "import cv2\n",
    "import numpy as np\n",
    "\n",
    "def detect_and_show_corners(image,\n",
    "                            max_corners=100,\n",
    "                            quality_level=0.01,\n",
    "                            min_distance=10,\n",
    "                            block_size=3,\n",
    "                            use_harris_detector=False,\n",
    "                            k=0.04):\n",
    "    \"\"\"\n",
    "    Detect corners in an image array and display the image with corners marked.\n",
    "    \n",
    "    Args:\n",
    "        image (numpy.ndarray): Input image array\n",
    "        max_corners (int): Maximum number of corners to detect\n",
    "        quality_level (float): Quality level parameter for corner detection\n",
    "        min_distance (int): Minimum distance between corners\n",
    "        block_size (int): Size of the averaging block for corner detection\n",
    "        use_harris_detector (bool): Whether to use Harris corner detector\n",
    "        k (float): Harris detector free parameter\n",
    "    \"\"\"\n",
    "    if image is None:\n",
    "        print(\"Error: Image array is None\")\n",
    "        return\n",
    "    \n",
    "    # Make a copy to avoid modifying the original image\n",
    "    image_copy = image.copy()\n",
    "    \n",
    "    # Convert to grayscale for corner detection if image is colored\n",
    "    if len(image.shape) == 3:\n",
    "        gray = cv2.cvtColor(image, cv2.COLOR_BGR2GRAY)\n",
    "    else:\n",
    "        gray = image\n",
    "    \n",
    "    # Detect corners using goodFeaturesToTrack\n",
    "    corners = cv2.goodFeaturesToTrack(\n",
    "        gray,\n",
    "        maxCorners=max_corners,\n",
    "        qualityLevel=quality_level,\n",
    "        minDistance=min_distance,\n",
    "        blockSize=block_size,\n",
    "        useHarrisDetector=use_harris_detector,\n",
    "        k=k\n",
    "    )\n",
    "    \n",
    "    # Draw corners on the image\n",
    "    if corners is not None:\n",
    "        corners = np.int0(corners)\n",
    "        for corner in corners:\n",
    "            x, y = corner.ravel()\n",
    "            cv2.circle(image_copy, (x, y), 3, (0, 255, 0), -1)\n",
    "        \n",
    "        print(f\"Detected {len(corners)} corners\")\n",
    "    else:\n",
    "        print(\"No corners detected\")\n",
    "    \n",
    "    # Display the image with corners\n",
    "    cv2.imshow('Image with Corners', image_copy)\n",
    "    cv2.waitKey(0)\n",
    "    cv2.destroyAllWindows()\n",
    "    \n",
    "    return corners\n"
   ]
  },
  {
   "cell_type": "code",
   "execution_count": null,
   "metadata": {},
   "outputs": [
    {
     "name": "stderr",
     "output_type": "stream",
     "text": [
      "/tmp/ipykernel_25683/4078790025.py:49: DeprecationWarning: `np.int0` is a deprecated alias for `np.intp`.  (Deprecated NumPy 1.24)\n",
      "  corners = np.int0(corners)\n"
     ]
    },
    {
     "name": "stdout",
     "output_type": "stream",
     "text": [
      "Detected 3 corners\n",
      "Detected 2 corners\n",
      "Detected 3 corners\n",
      "Detected 2 corners\n",
      "Detected 2 corners\n",
      "Detected 2 corners\n",
      "Detected 2 corners\n"
     ]
    }
   ],
   "source": [
    "# Example usage:\n",
    "cap = cv2.VideoCapture('/home/arnab/Desktop/virt_cric_distactor/data/01-09-2023/vc-distractor-01-09-2023_10-33-46.avi')\n",
    "\n",
    "while True:\n",
    "    ret, frame = cap.read()\n",
    "    if not ret:\n",
    "        break\n",
    "    corners = detect_and_show_corners(frame, max_corners=100,\n",
    "                                    min_distance=300,\n",
    "                                    use_harris_detector=True,\n",
    "                                    k=0.04) \n",
    "    if cv2.waitKey(1) & 0xFF == ord('q'):\n",
    "        break\n",
    "cap.release()\n",
    "cv2.destroyAllWindows()\n",
    "# corners = detect_and_show_corners(image)"
   ]
  },
  {
   "cell_type": "code",
   "execution_count": null,
   "metadata": {},
   "outputs": [],
   "source": []
  }
 ],
 "metadata": {
  "kernelspec": {
   "display_name": "analysis",
   "language": "python",
   "name": "python3"
  },
  "language_info": {
   "codemirror_mode": {
    "name": "ipython",
    "version": 3
   },
   "file_extension": ".py",
   "mimetype": "text/x-python",
   "name": "python",
   "nbconvert_exporter": "python",
   "pygments_lexer": "ipython3",
   "version": "3.9.22"
  }
 },
 "nbformat": 4,
 "nbformat_minor": 2
}
